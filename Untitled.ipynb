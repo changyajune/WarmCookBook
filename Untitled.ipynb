{
 "cells": [
  {
   "cell_type": "code",
   "execution_count": 1,
   "metadata": {
    "collapsed": true
   },
   "outputs": [],
   "source": [
    "import facebook\n",
    "\n",
    "graph = facebook.GraphAPI(access_token='EAACEdEose0cBAOu3jeqZC59SNSNINpOnhs4b9UZCrYuvygnYgvyaAsTsUPsqkM7qASkZBoHZBD2DxmXpoHXta8k3Xz1HiKmG6AlvBkQowAvMELGWaGqD9dluNWXMQUSZBVaraOhvrOUdamuaht8RBWrSTvs2cpevTujqiFoxyZC2jQY2gCZAbZAJ8L6xwX2b6zEZD', version='2.7')\n",
    "\n",
    "a = graph.get_object( '349696661821984' + '/events?limit=50')\n"
   ]
  },
  {
   "cell_type": "code",
   "execution_count": 14,
   "metadata": {
    "collapsed": false
   },
   "outputs": [
    {
     "name": "stdout",
     "output_type": "stream",
     "text": [
      "【主題】沃草X開放政府：海外也能參與臺灣政策的10種方式 - 公民參與無國界\n",
      "【主辦單位】紐約哲學星期五志工團隊\n",
      "【時間】07/07 (Fri) 7:30-9:30pm\n",
      "【地點】1460 Broadway 12F, New York, NY (WeWork C-Working Space 入口在41街 餐廳大戶屋日本料理 旁)\n",
      "【活動策劃】徐毅軒 黃天亮\n",
      "【主講人】林祖儀 沃草創辦人暨執行長 / Ｐｔｔ粉斯團主編 / 罷免法規推動者\n",
      "【主持人】\n",
      "【語言】本次活動將以中文為主\n",
      "【內容簡介】\n",
      "台北林先生，林祖儀擔任Ｐｔｔ粉絲團主編每日為數十萬粉絲選文過程中，看見台灣許多社會與政治議題，認為『強化選舉權、推動罷免權』是一切的解方，完善民主的SOP，讓對的政治人物為人民服務。他投入『割闌尾計畫』團隊，創造了20年來第一次立委罷免投票，也在2016年底順利推動罷免法規下修。他創辦新媒體『沃草！Watchout』，提供大眾執行政治監督的平台，讓民眾在非選舉期間可以監督政府；選舉期間則提供資訊讓民眾判斷，投票給心目中最佳的候選人。透過選舉與罷免權，為台灣建立更加完善的民主制度。沃草秉持著降低公民參與政治的門檻、開放政府的精神，藉由『國會無雙』、『市長給問嗎』、『給問擂台』，以及協助打造蒐集民眾意見到國是會議議程的『總統府司法改革國是會議網站』，讓民眾能參與或關注政府事務。\n",
      "美國與臺灣相隔萬里，距離擋不住在美的臺灣人關注臺灣政治與時事的熱情，距離卻又擋住在美的臺灣人實質參與臺灣政治與時事的機會。2017年臺灣「開放政府」概念的發展與行動的崛起，讓民眾能透過「社群網路」參與政治決策。如何「海外也能參與臺灣政策」，講者將帶來臺灣2017年「開放政府」的最新趨勢與沃草第一手實務經驗，讓台美人能藉由網路展開實質行動、影響臺灣。\n",
      "【關於講者】\n",
      "政大哲學系、政大經濟所。現任沃草負責人、割闌尾計畫發言人、臺灣最大BBS站Ptt官方粉絲團主編。曾任公民1985行動聯盟發言人、2014年太陽花運動鄉民集資買紐約時報共同策劃人。2014年經貿國是會議青年代表、2016年高等教育論壇籌備委員、2017年年金改革國是會議青年代表、2017年全國文化政策會議籌備委員暨實體會議引言人。商業周刊『財經新聞儀點通』專欄作家。城邦出版集團財金類簽約作家，著有《看財經新聞解讀經濟現象》、《興味盎然的經濟理論》與《一冊通曉圖解貨幣學》等書。\n",
      "\n",
      "【海報設計】黃映禎 | 紐約插畫家\n",
      "【文案撰寫】徐毅軒｜NYU 天文物理碩士\n",
      "【網路宣傳】徐毅軒｜NYU 天文物理碩士、黃天亮\n",
      "【場地支援】蕭新晟｜軟體工程師，紐約新創公司負責人\n",
      "【活動記錄】江宜穎\n",
      "【攝影錄影】\n",
      "【行政協力】\n"
     ]
    }
   ],
   "source": [
    "hold = a['data'][0]\n",
    "for x in hold['description'].split('\\n'):\n",
    "    print x.encode('utf8')"
   ]
  },
  {
   "cell_type": "code",
   "execution_count": 5,
   "metadata": {
    "collapsed": false
   },
   "outputs": [
    {
     "data": {
      "text/plain": [
       "[u'description', u'start_time', u'place', u'end_time', u'id', u'name']"
      ]
     },
     "execution_count": 5,
     "metadata": {},
     "output_type": "execute_result"
    }
   ],
   "source": [
    "hold.keys()"
   ]
  },
  {
   "cell_type": "code",
   "execution_count": 16,
   "metadata": {
    "collapsed": false
   },
   "outputs": [
    {
     "name": "stdout",
     "output_type": "stream",
     "text": [
      "{u'description': u'\\u3010\\u4e3b\\u984c\\u3011\\u6c83\\u8349X\\u958b\\u653e\\u653f\\u5e9c\\uff1a\\u6d77\\u5916\\u4e5f\\u80fd\\u53c3\\u8207\\u81fa\\u7063\\u653f\\u7b56\\u768410\\u7a2e\\u65b9\\u5f0f - \\u516c\\u6c11\\u53c3\\u8207\\u7121\\u570b\\u754c\\n\\u3010\\u4e3b\\u8fa6\\u55ae\\u4f4d\\u3011\\u7d10\\u7d04\\u54f2\\u5b78\\u661f\\u671f\\u4e94\\u5fd7\\u5de5\\u5718\\u968a\\n\\u3010\\u6642\\u9593\\u301107/07 (Fri) 7:30-9:30pm\\n\\u3010\\u5730\\u9ede\\u30111460 Broadway 12F, New York, NY (WeWork C-Working Space \\u5165\\u53e3\\u572841\\u8857 \\u9910\\u5ef3\\u5927\\u6236\\u5c4b\\u65e5\\u672c\\u6599\\u7406 \\u65c1)\\n\\u3010\\u6d3b\\u52d5\\u7b56\\u5283\\u3011\\u5f90\\u6bc5\\u8ed2 \\u9ec3\\u5929\\u4eae\\n\\u3010\\u4e3b\\u8b1b\\u4eba\\u3011\\u6797\\u7956\\u5100 \\u6c83\\u8349\\u5275\\u8fa6\\u4eba\\u66a8\\u57f7\\u884c\\u9577 / \\uff30\\uff54\\uff54\\u7c89\\u65af\\u5718\\u4e3b\\u7de8 / \\u7f77\\u514d\\u6cd5\\u898f\\u63a8\\u52d5\\u8005\\n\\u3010\\u4e3b\\u6301\\u4eba\\u3011\\n\\u3010\\u8a9e\\u8a00\\u3011\\u672c\\u6b21\\u6d3b\\u52d5\\u5c07\\u4ee5\\u4e2d\\u6587\\u70ba\\u4e3b\\n\\u3010\\u5167\\u5bb9\\u7c21\\u4ecb\\u3011\\n\\u53f0\\u5317\\u6797\\u5148\\u751f\\uff0c\\u6797\\u7956\\u5100\\u64d4\\u4efb\\uff30\\uff54\\uff54\\u7c89\\u7d72\\u5718\\u4e3b\\u7de8\\u6bcf\\u65e5\\u70ba\\u6578\\u5341\\u842c\\u7c89\\u7d72\\u9078\\u6587\\u904e\\u7a0b\\u4e2d\\uff0c\\u770b\\u898b\\u53f0\\u7063\\u8a31\\u591a\\u793e\\u6703\\u8207\\u653f\\u6cbb\\u8b70\\u984c\\uff0c\\u8a8d\\u70ba\\u300e\\u5f37\\u5316\\u9078\\u8209\\u6b0a\\u3001\\u63a8\\u52d5\\u7f77\\u514d\\u6b0a\\u300f\\u662f\\u4e00\\u5207\\u7684\\u89e3\\u65b9\\uff0c\\u5b8c\\u5584\\u6c11\\u4e3b\\u7684SOP\\uff0c\\u8b93\\u5c0d\\u7684\\u653f\\u6cbb\\u4eba\\u7269\\u70ba\\u4eba\\u6c11\\u670d\\u52d9\\u3002\\u4ed6\\u6295\\u5165\\u300e\\u5272\\u95cc\\u5c3e\\u8a08\\u756b\\u300f\\u5718\\u968a\\uff0c\\u5275\\u9020\\u4e8620\\u5e74\\u4f86\\u7b2c\\u4e00\\u6b21\\u7acb\\u59d4\\u7f77\\u514d\\u6295\\u7968\\uff0c\\u4e5f\\u57282016\\u5e74\\u5e95\\u9806\\u5229\\u63a8\\u52d5\\u7f77\\u514d\\u6cd5\\u898f\\u4e0b\\u4fee\\u3002\\u4ed6\\u5275\\u8fa6\\u65b0\\u5a92\\u9ad4\\u300e\\u6c83\\u8349\\uff01Watchout\\u300f\\uff0c\\u63d0\\u4f9b\\u5927\\u773e\\u57f7\\u884c\\u653f\\u6cbb\\u76e3\\u7763\\u7684\\u5e73\\u53f0\\uff0c\\u8b93\\u6c11\\u773e\\u5728\\u975e\\u9078\\u8209\\u671f\\u9593\\u53ef\\u4ee5\\u76e3\\u7763\\u653f\\u5e9c\\uff1b\\u9078\\u8209\\u671f\\u9593\\u5247\\u63d0\\u4f9b\\u8cc7\\u8a0a\\u8b93\\u6c11\\u773e\\u5224\\u65b7\\uff0c\\u6295\\u7968\\u7d66\\u5fc3\\u76ee\\u4e2d\\u6700\\u4f73\\u7684\\u5019\\u9078\\u4eba\\u3002\\u900f\\u904e\\u9078\\u8209\\u8207\\u7f77\\u514d\\u6b0a\\uff0c\\u70ba\\u53f0\\u7063\\u5efa\\u7acb\\u66f4\\u52a0\\u5b8c\\u5584\\u7684\\u6c11\\u4e3b\\u5236\\u5ea6\\u3002\\u6c83\\u8349\\u79c9\\u6301\\u8457\\u964d\\u4f4e\\u516c\\u6c11\\u53c3\\u8207\\u653f\\u6cbb\\u7684\\u9580\\u6abb\\u3001\\u958b\\u653e\\u653f\\u5e9c\\u7684\\u7cbe\\u795e\\uff0c\\u85c9\\u7531\\u300e\\u570b\\u6703\\u7121\\u96d9\\u300f\\u3001\\u300e\\u5e02\\u9577\\u7d66\\u554f\\u55ce\\u300f\\u3001\\u300e\\u7d66\\u554f\\u64c2\\u53f0\\u300f\\uff0c\\u4ee5\\u53ca\\u5354\\u52a9\\u6253\\u9020\\u8490\\u96c6\\u6c11\\u773e\\u610f\\u898b\\u5230\\u570b\\u662f\\u6703\\u8b70\\u8b70\\u7a0b\\u7684\\u300e\\u7e3d\\u7d71\\u5e9c\\u53f8\\u6cd5\\u6539\\u9769\\u570b\\u662f\\u6703\\u8b70\\u7db2\\u7ad9\\u300f\\uff0c\\u8b93\\u6c11\\u773e\\u80fd\\u53c3\\u8207\\u6216\\u95dc\\u6ce8\\u653f\\u5e9c\\u4e8b\\u52d9\\u3002\\n\\u7f8e\\u570b\\u8207\\u81fa\\u7063\\u76f8\\u9694\\u842c\\u91cc\\uff0c\\u8ddd\\u96e2\\u64cb\\u4e0d\\u4f4f\\u5728\\u7f8e\\u7684\\u81fa\\u7063\\u4eba\\u95dc\\u6ce8\\u81fa\\u7063\\u653f\\u6cbb\\u8207\\u6642\\u4e8b\\u7684\\u71b1\\u60c5\\uff0c\\u8ddd\\u96e2\\u537b\\u53c8\\u64cb\\u4f4f\\u5728\\u7f8e\\u7684\\u81fa\\u7063\\u4eba\\u5be6\\u8cea\\u53c3\\u8207\\u81fa\\u7063\\u653f\\u6cbb\\u8207\\u6642\\u4e8b\\u7684\\u6a5f\\u6703\\u30022017\\u5e74\\u81fa\\u7063\\u300c\\u958b\\u653e\\u653f\\u5e9c\\u300d\\u6982\\u5ff5\\u7684\\u767c\\u5c55\\u8207\\u884c\\u52d5\\u7684\\u5d1b\\u8d77\\uff0c\\u8b93\\u6c11\\u773e\\u80fd\\u900f\\u904e\\u300c\\u793e\\u7fa4\\u7db2\\u8def\\u300d\\u53c3\\u8207\\u653f\\u6cbb\\u6c7a\\u7b56\\u3002\\u5982\\u4f55\\u300c\\u6d77\\u5916\\u4e5f\\u80fd\\u53c3\\u8207\\u81fa\\u7063\\u653f\\u7b56\\u300d\\uff0c\\u8b1b\\u8005\\u5c07\\u5e36\\u4f86\\u81fa\\u70632017\\u5e74\\u300c\\u958b\\u653e\\u653f\\u5e9c\\u300d\\u7684\\u6700\\u65b0\\u8da8\\u52e2\\u8207\\u6c83\\u8349\\u7b2c\\u4e00\\u624b\\u5be6\\u52d9\\u7d93\\u9a57\\uff0c\\u8b93\\u53f0\\u7f8e\\u4eba\\u80fd\\u85c9\\u7531\\u7db2\\u8def\\u5c55\\u958b\\u5be6\\u8cea\\u884c\\u52d5\\u3001\\u5f71\\u97ff\\u81fa\\u7063\\u3002\\n\\u3010\\u95dc\\u65bc\\u8b1b\\u8005\\u3011\\n\\u653f\\u5927\\u54f2\\u5b78\\u7cfb\\u3001\\u653f\\u5927\\u7d93\\u6fdf\\u6240\\u3002\\u73fe\\u4efb\\u6c83\\u8349\\u8ca0\\u8cac\\u4eba\\u3001\\u5272\\u95cc\\u5c3e\\u8a08\\u756b\\u767c\\u8a00\\u4eba\\u3001\\u81fa\\u7063\\u6700\\u5927BBS\\u7ad9Ptt\\u5b98\\u65b9\\u7c89\\u7d72\\u5718\\u4e3b\\u7de8\\u3002\\u66fe\\u4efb\\u516c\\u6c111985\\u884c\\u52d5\\u806f\\u76df\\u767c\\u8a00\\u4eba\\u30012014\\u5e74\\u592a\\u967d\\u82b1\\u904b\\u52d5\\u9109\\u6c11\\u96c6\\u8cc7\\u8cb7\\u7d10\\u7d04\\u6642\\u5831\\u5171\\u540c\\u7b56\\u5283\\u4eba\\u30022014\\u5e74\\u7d93\\u8cbf\\u570b\\u662f\\u6703\\u8b70\\u9752\\u5e74\\u4ee3\\u8868\\u30012016\\u5e74\\u9ad8\\u7b49\\u6559\\u80b2\\u8ad6\\u58c7\\u7c4c\\u5099\\u59d4\\u54e1\\u30012017\\u5e74\\u5e74\\u91d1\\u6539\\u9769\\u570b\\u662f\\u6703\\u8b70\\u9752\\u5e74\\u4ee3\\u8868\\u30012017\\u5e74\\u5168\\u570b\\u6587\\u5316\\u653f\\u7b56\\u6703\\u8b70\\u7c4c\\u5099\\u59d4\\u54e1\\u66a8\\u5be6\\u9ad4\\u6703\\u8b70\\u5f15\\u8a00\\u4eba\\u3002\\u5546\\u696d\\u5468\\u520a\\u300e\\u8ca1\\u7d93\\u65b0\\u805e\\u5100\\u9ede\\u901a\\u300f\\u5c08\\u6b04\\u4f5c\\u5bb6\\u3002\\u57ce\\u90a6\\u51fa\\u7248\\u96c6\\u5718\\u8ca1\\u91d1\\u985e\\u7c3d\\u7d04\\u4f5c\\u5bb6\\uff0c\\u8457\\u6709\\u300a\\u770b\\u8ca1\\u7d93\\u65b0\\u805e\\u89e3\\u8b80\\u7d93\\u6fdf\\u73fe\\u8c61\\u300b\\u3001\\u300a\\u8208\\u5473\\u76ce\\u7136\\u7684\\u7d93\\u6fdf\\u7406\\u8ad6\\u300b\\u8207\\u300a\\u4e00\\u518a\\u901a\\u66c9\\u5716\\u89e3\\u8ca8\\u5e63\\u5b78\\u300b\\u7b49\\u66f8\\u3002\\n\\n\\u3010\\u6d77\\u5831\\u8a2d\\u8a08\\u3011\\u9ec3\\u6620\\u798e | \\u7d10\\u7d04\\u63d2\\u756b\\u5bb6\\n\\u3010\\u6587\\u6848\\u64b0\\u5beb\\u3011\\u5f90\\u6bc5\\u8ed2\\uff5cNYU \\u5929\\u6587\\u7269\\u7406\\u78a9\\u58eb\\n\\u3010\\u7db2\\u8def\\u5ba3\\u50b3\\u3011\\u5f90\\u6bc5\\u8ed2\\uff5cNYU \\u5929\\u6587\\u7269\\u7406\\u78a9\\u58eb\\u3001\\u9ec3\\u5929\\u4eae\\n\\u3010\\u5834\\u5730\\u652f\\u63f4\\u3011\\u856d\\u65b0\\u665f\\uff5c\\u8edf\\u9ad4\\u5de5\\u7a0b\\u5e2b\\uff0c\\u7d10\\u7d04\\u65b0\\u5275\\u516c\\u53f8\\u8ca0\\u8cac\\u4eba\\n\\u3010\\u6d3b\\u52d5\\u8a18\\u9304\\u3011\\u6c5f\\u5b9c\\u7a4e\\n\\u3010\\u651d\\u5f71\\u9304\\u5f71\\u3011\\n\\u3010\\u884c\\u653f\\u5354\\u529b\\u3011', u'start_time': u'2017-07-07T19:30:00-0400', u'place': {u'id': u'108424279189115', u'name': u'New York, NY', u'location': {u'latitude': 40.7142, u'city': u'New York', u'state': u'NY', u'longitude': -74.0064, u'country': u'United States'}}, u'end_time': u'2017-07-07T21:30:00-0400', u'id': u'1691935461115665', u'name': u'\\u6c83\\u8349x\\u958b\\u653e\\u653f\\u5e9c\\uff1a\\u6d77\\u5916\\u4e5f\\u80fd\\u53c3\\u8207\\u81fa\\u7063\\u653f\\u7b56\\u768410\\u7a2e\\u65b9\\u5f0f - \\u516c\\u6c11\\u53c3\\u8207\\u7121\\u570b\\u754c'}\n"
     ]
    }
   ],
   "source": [
    "print hold"
   ]
  },
  {
   "cell_type": "code",
   "execution_count": 17,
   "metadata": {
    "collapsed": false
   },
   "outputs": [
    {
     "name": "stdout",
     "output_type": "stream",
     "text": [
      "2017-07-07T19:30:00-0400\n"
     ]
    }
   ],
   "source": [
    "print hold['start_time']"
   ]
  },
  {
   "cell_type": "code",
   "execution_count": 22,
   "metadata": {
    "collapsed": false
   },
   "outputs": [
    {
     "ename": "GraphAPIError",
     "evalue": "Error validating access token: Session has expired on Monday, 03-Jul-17 07:00:00 PDT. The current time is Monday, 03-Jul-17 07:01:04 PDT.",
     "output_type": "error",
     "traceback": [
      "\u001b[0;31m---------------------------------------------------------------------------\u001b[0m",
      "\u001b[0;31mGraphAPIError\u001b[0m                             Traceback (most recent call last)",
      "\u001b[0;32m<ipython-input-22-ceaee158f8da>\u001b[0m in \u001b[0;36m<module>\u001b[0;34m()\u001b[0m\n\u001b[1;32m      9\u001b[0m \u001b[0;31m# 爬出這個ID的facebook page 的 event 資料（access token 這樣取得： https://developers.facebook.com/tools/explorer/?method=GET&path=me%3Ffields%3Did%2Cname&version=v2.9）\u001b[0m\u001b[0;34m\u001b[0m\u001b[0;34m\u001b[0m\u001b[0m\n\u001b[1;32m     10\u001b[0m \u001b[0mgraph\u001b[0m \u001b[0;34m=\u001b[0m \u001b[0mfacebook\u001b[0m\u001b[0;34m.\u001b[0m\u001b[0mGraphAPI\u001b[0m\u001b[0;34m(\u001b[0m\u001b[0maccess_token\u001b[0m\u001b[0;34m=\u001b[0m\u001b[0;34m'EAACEdEose0cBAIrPxYHvjPeJwAiNDzIZC7sNKGrsFmLeglUlzmGqMYGTwruhmcwTudMmYIOirStyHZBx8fovSyiN1UiFfmAZCoO8ZBhWZC06ZC3Ab7M89MWysIMoPCY8qbxvyuZCTWbAT8IEKucoaogcZBKXBtZANIw3LCOQOj15yRD8BKi7IikUrOZAvB8PYQJL8ZD'\u001b[0m\u001b[0;34m,\u001b[0m \u001b[0mversion\u001b[0m\u001b[0;34m=\u001b[0m\u001b[0;34m'2.7'\u001b[0m\u001b[0;34m)\u001b[0m\u001b[0;34m\u001b[0m\u001b[0m\n\u001b[0;32m---> 11\u001b[0;31m \u001b[0ma\u001b[0m \u001b[0;34m=\u001b[0m \u001b[0mgraph\u001b[0m\u001b[0;34m.\u001b[0m\u001b[0mget_object\u001b[0m\u001b[0;34m(\u001b[0m \u001b[0mID\u001b[0m \u001b[0;34m+\u001b[0m \u001b[0;34m'/events?limit=50'\u001b[0m\u001b[0;34m)\u001b[0m\u001b[0;34m\u001b[0m\u001b[0m\n\u001b[0m",
      "\u001b[0;32m/Applications/Evolution/anaconda/lib/python2.7/site-packages/facebook/__init__.pyc\u001b[0m in \u001b[0;36mget_object\u001b[0;34m(self, id, **args)\u001b[0m\n\u001b[1;32m    103\u001b[0m     \u001b[0;32mdef\u001b[0m \u001b[0mget_object\u001b[0m\u001b[0;34m(\u001b[0m\u001b[0mself\u001b[0m\u001b[0;34m,\u001b[0m \u001b[0mid\u001b[0m\u001b[0;34m,\u001b[0m \u001b[0;34m**\u001b[0m\u001b[0margs\u001b[0m\u001b[0;34m)\u001b[0m\u001b[0;34m:\u001b[0m\u001b[0;34m\u001b[0m\u001b[0m\n\u001b[1;32m    104\u001b[0m         \u001b[0;34m\"\"\"Fetches the given object from the graph.\"\"\"\u001b[0m\u001b[0;34m\u001b[0m\u001b[0m\n\u001b[0;32m--> 105\u001b[0;31m         \u001b[0;32mreturn\u001b[0m \u001b[0mself\u001b[0m\u001b[0;34m.\u001b[0m\u001b[0mrequest\u001b[0m\u001b[0;34m(\u001b[0m\u001b[0mself\u001b[0m\u001b[0;34m.\u001b[0m\u001b[0mversion\u001b[0m \u001b[0;34m+\u001b[0m \u001b[0;34m\"/\"\u001b[0m \u001b[0;34m+\u001b[0m \u001b[0mid\u001b[0m\u001b[0;34m,\u001b[0m \u001b[0margs\u001b[0m\u001b[0;34m)\u001b[0m\u001b[0;34m\u001b[0m\u001b[0m\n\u001b[0m\u001b[1;32m    106\u001b[0m \u001b[0;34m\u001b[0m\u001b[0m\n\u001b[1;32m    107\u001b[0m     \u001b[0;32mdef\u001b[0m \u001b[0mget_objects\u001b[0m\u001b[0;34m(\u001b[0m\u001b[0mself\u001b[0m\u001b[0;34m,\u001b[0m \u001b[0mids\u001b[0m\u001b[0;34m,\u001b[0m \u001b[0;34m**\u001b[0m\u001b[0margs\u001b[0m\u001b[0;34m)\u001b[0m\u001b[0;34m:\u001b[0m\u001b[0;34m\u001b[0m\u001b[0m\n",
      "\u001b[0;32m/Applications/Evolution/anaconda/lib/python2.7/site-packages/facebook/__init__.pyc\u001b[0m in \u001b[0;36mrequest\u001b[0;34m(self, path, args, post_args, files, method)\u001b[0m\n\u001b[1;32m    270\u001b[0m \u001b[0;34m\u001b[0m\u001b[0m\n\u001b[1;32m    271\u001b[0m         \u001b[0;32mif\u001b[0m \u001b[0mresult\u001b[0m \u001b[0;32mand\u001b[0m \u001b[0misinstance\u001b[0m\u001b[0;34m(\u001b[0m\u001b[0mresult\u001b[0m\u001b[0;34m,\u001b[0m \u001b[0mdict\u001b[0m\u001b[0;34m)\u001b[0m \u001b[0;32mand\u001b[0m \u001b[0mresult\u001b[0m\u001b[0;34m.\u001b[0m\u001b[0mget\u001b[0m\u001b[0;34m(\u001b[0m\u001b[0;34m\"error\"\u001b[0m\u001b[0;34m)\u001b[0m\u001b[0;34m:\u001b[0m\u001b[0;34m\u001b[0m\u001b[0m\n\u001b[0;32m--> 272\u001b[0;31m             \u001b[0;32mraise\u001b[0m \u001b[0mGraphAPIError\u001b[0m\u001b[0;34m(\u001b[0m\u001b[0mresult\u001b[0m\u001b[0;34m)\u001b[0m\u001b[0;34m\u001b[0m\u001b[0m\n\u001b[0m\u001b[1;32m    273\u001b[0m         \u001b[0;32mreturn\u001b[0m \u001b[0mresult\u001b[0m\u001b[0;34m\u001b[0m\u001b[0m\n\u001b[1;32m    274\u001b[0m \u001b[0;34m\u001b[0m\u001b[0m\n",
      "\u001b[0;31mGraphAPIError\u001b[0m: Error validating access token: Session has expired on Monday, 03-Jul-17 07:00:00 PDT. The current time is Monday, 03-Jul-17 07:01:04 PDT."
     ]
    }
   ],
   "source": [
    "import facebook\n",
    "\n",
    "# 用 https://findmyfbid.com 找出Event列表的id\n",
    "ID = '804980569560080'\n",
    "groupname = u'波士頓哲學星期五'\n",
    "csvname = groupname + '.csv'\n",
    "txtname = groupname + '.txt'\n",
    "\n",
    "# 爬出這個ID的facebook page 的 event 資料（access token 這樣取得： https://developers.facebook.com/tools/explorer/?method=GET&path=me%3Ffields%3Did%2Cname&version=v2.9）\n",
    "graph = facebook.GraphAPI(access_token='EAACEdEose0cBAIrPxYHvjPeJwAiNDzIZC7sNKGrsFmLeglUlzmGqMYGTwruhmcwTudMmYIOirStyHZBx8fovSyiN1UiFfmAZCoO8ZBhWZC06ZC3Ab7M89MWysIMoPCY8qbxvyuZCTWbAT8IEKucoaogcZBKXBtZANIw3LCOQOj15yRD8BKi7IikUrOZAvB8PYQJL8ZD', version='2.7')\n",
    "a = graph.get_object( ID + '/events?limit=50')\n"
   ]
  },
  {
   "cell_type": "code",
   "execution_count": 19,
   "metadata": {
    "collapsed": false
   },
   "outputs": [
    {
     "ename": "KeyError",
     "evalue": "'description'",
     "output_type": "error",
     "traceback": [
      "\u001b[0;31m---------------------------------------------------------------------------\u001b[0m",
      "\u001b[0;31mKeyError\u001b[0m                                  Traceback (most recent call last)",
      "\u001b[0;32m<ipython-input-19-cdd4adc63fec>\u001b[0m in \u001b[0;36m<module>\u001b[0;34m()\u001b[0m\n\u001b[0;32m----> 1\u001b[0;31m \u001b[0;32mprint\u001b[0m \u001b[0ma\u001b[0m\u001b[0;34m[\u001b[0m\u001b[0;34m'description'\u001b[0m\u001b[0;34m]\u001b[0m\u001b[0;34m\u001b[0m\u001b[0m\n\u001b[0m",
      "\u001b[0;31mKeyError\u001b[0m: 'description'"
     ]
    }
   ],
   "source": [
    "print a['description']"
   ]
  },
  {
   "cell_type": "code",
   "execution_count": 26,
   "metadata": {
    "collapsed": false
   },
   "outputs": [
    {
     "name": "stdout",
     "output_type": "stream",
     "text": [
      "[u'paging', u'data']\n"
     ]
    }
   ],
   "source": [
    "print a.keys()"
   ]
  },
  {
   "cell_type": "code",
   "execution_count": 36,
   "metadata": {
    "collapsed": false
   },
   "outputs": [
    {
     "data": {
      "text/plain": [
       "{u'end_time': u'2017-07-08T16:00:00-0400',\n",
       " u'id': u'629253067269847',\n",
       " u'name': u'\\u6c83\\u8349x\\u958b\\u653e\\u653f\\u5e9c\\uff1a\\u6d77\\u5916\\u4e5f\\u80fd\\u53c3\\u8207\\u81fa\\u7063\\u653f\\u7b56\\u768410\\u7a2e\\u65b9\\u5f0f - \\u516c\\u6c11\\u53c3\\u8207\\u7121\\u570b\\u754c',\n",
       " u'place': {u'id': u'125732640816666',\n",
       "  u'location': {u'city': u'Lexington',\n",
       "   u'country': u'United States',\n",
       "   u'latitude': 42.44815,\n",
       "   u'longitude': -71.22971,\n",
       "   u'state': u'MA',\n",
       "   u'street': u'1874 Massachusetts Ave',\n",
       "   u'zip': u'02420'},\n",
       "  u'name': u'Cary Memorial Library'},\n",
       " u'start_time': u'2017-07-08T14:00:00-0400'}"
      ]
     },
     "execution_count": 36,
     "metadata": {},
     "output_type": "execute_result"
    }
   ],
   "source": [
    "a['data'][0]"
   ]
  },
  {
   "cell_type": "code",
   "execution_count": null,
   "metadata": {
    "collapsed": true
   },
   "outputs": [],
   "source": []
  }
 ],
 "metadata": {
  "kernelspec": {
   "display_name": "Python 2",
   "language": "python",
   "name": "python2"
  },
  "language_info": {
   "codemirror_mode": {
    "name": "ipython",
    "version": 2
   },
   "file_extension": ".py",
   "mimetype": "text/x-python",
   "name": "python",
   "nbconvert_exporter": "python",
   "pygments_lexer": "ipython2",
   "version": "2.7.12"
  }
 },
 "nbformat": 4,
 "nbformat_minor": 0
}
